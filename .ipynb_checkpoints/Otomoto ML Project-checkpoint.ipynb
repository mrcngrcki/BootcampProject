{
 "cells": [
  {
   "cell_type": "markdown",
   "metadata": {},
   "source": [
    "# Prediction of car prices\n",
    "Goal of the project is to create the best model to predict car prices.\n",
    "Data is based on one of the Polish biggest automotive website, otomoto.pl"
   ]
  },
  {
   "cell_type": "code",
   "execution_count": 1,
   "metadata": {},
   "outputs": [],
   "source": [
    "# bs4 webscraping, requests get source code, numpy/pandas data management, matplotlib charts\n",
    "from bs4 import BeautifulSoup\n",
    "import requests\n",
    "import numpy as np\n",
    "import pandas as pd\n",
    "import matplotlib.pyplot as plt\n",
    "import seaborn as sns\n",
    "%matplotlib inline"
   ]
  },
  {
   "cell_type": "code",
   "execution_count": 2,
   "metadata": {},
   "outputs": [],
   "source": [
    "#Example car will be Hyundai i30\n",
    "BASE_URL = r'https://www.otomoto.pl/osobowe/hyundai/i30/'\n",
    "\n",
    "\"\"\"\n",
    "Class of car offer with all parameters from the website\n",
    "\"\"\"\n",
    "class Offer:\n",
    "    def __init__(self, year:int, mileage:int, fuel_type:str,price:int):\n",
    "        self.year = year\n",
    "        self.mileage = mileage\n",
    "        self.fuel_type = fuel_type\n",
    "        self.price = price\n",
    "\n",
    "        \n",
    "\"\"\"\n",
    "Function checks maximum number of pages with offers\n",
    "\"\"\"\n",
    "def get_pages_number(url:str):\n",
    "    html = requests.get(url).text\n",
    "    main_page = BeautifulSoup(html, 'lxml')\n",
    "    pages_number = main_page.select('.page')[-1].text\n",
    "    return int(pages_number)\n",
    "\n",
    "PAGES_TO_SCRAP = get_pages_number(BASE_URL)\n",
    "    \n",
    "\"\"\"\n",
    "Returns list of all offers objects\n",
    "\"\"\"\n",
    "def get_offers_data(url:str, page_number:int):\n",
    "    offers_list = []\n",
    "    for page in range(1,PAGES_TO_SCRAP):\n",
    "        print(f'Page {page}')\n",
    "        page_url = url + f'?page={page}'\n",
    "        print(page_url)\n",
    "        html = requests.get(page_url).text\n",
    "        main_page = BeautifulSoup(html, 'lxml')\n",
    "        offers = main_page.select('.offer-item__content')\n",
    "        for offer in offers:\n",
    "            try:\n",
    "                offer_url = offer.select('.offer-title__link')[0].attrs['href']\n",
    "                year = int(offer.find('li', {'data-code':'year'}).text.strip())\n",
    "                mileage = int(offer.find('li', {'data-code':'mileage'}).text.strip()[:-3].replace(\" \",\"\"))\n",
    "                fuel_type = offer.find('li', {'data-code':'fuel_type'}).text.strip()\n",
    "                price = int(offer.select('.offer-price__number')[0].span.text.strip().replace(\" \",\"\"))\n",
    "\n",
    "                offer_object = Offer(year, mileage, fuel_type, price)\n",
    "                #print(offer_object.__dict__)\n",
    "                offers_list.append(offer_object.__dict__)\n",
    "            except:\n",
    "                print('collecting data error')\n",
    "                \n",
    "    return offers_list"
   ]
  },
  {
   "cell_type": "code",
   "execution_count": 3,
   "metadata": {},
   "outputs": [
    {
     "name": "stdout",
     "output_type": "stream",
     "text": [
      "Page 1\n",
      "https://www.otomoto.pl/osobowe/hyundai/i30/?page=1\n",
      "Page 2\n",
      "https://www.otomoto.pl/osobowe/hyundai/i30/?page=2\n",
      "Page 3\n",
      "https://www.otomoto.pl/osobowe/hyundai/i30/?page=3\n",
      "Page 4\n",
      "https://www.otomoto.pl/osobowe/hyundai/i30/?page=4\n",
      "Page 5\n",
      "https://www.otomoto.pl/osobowe/hyundai/i30/?page=5\n",
      "Page 6\n",
      "https://www.otomoto.pl/osobowe/hyundai/i30/?page=6\n",
      "Page 7\n",
      "https://www.otomoto.pl/osobowe/hyundai/i30/?page=7\n",
      "Page 8\n",
      "https://www.otomoto.pl/osobowe/hyundai/i30/?page=8\n",
      "Page 9\n",
      "https://www.otomoto.pl/osobowe/hyundai/i30/?page=9\n",
      "Page 10\n",
      "https://www.otomoto.pl/osobowe/hyundai/i30/?page=10\n",
      "Page 11\n",
      "https://www.otomoto.pl/osobowe/hyundai/i30/?page=11\n",
      "Page 12\n",
      "https://www.otomoto.pl/osobowe/hyundai/i30/?page=12\n",
      "Page 13\n",
      "https://www.otomoto.pl/osobowe/hyundai/i30/?page=13\n",
      "Page 14\n",
      "https://www.otomoto.pl/osobowe/hyundai/i30/?page=14\n",
      "Page 15\n",
      "https://www.otomoto.pl/osobowe/hyundai/i30/?page=15\n",
      "Page 16\n",
      "https://www.otomoto.pl/osobowe/hyundai/i30/?page=16\n",
      "Page 17\n",
      "https://www.otomoto.pl/osobowe/hyundai/i30/?page=17\n",
      "Page 18\n",
      "https://www.otomoto.pl/osobowe/hyundai/i30/?page=18\n",
      "Page 19\n",
      "https://www.otomoto.pl/osobowe/hyundai/i30/?page=19\n",
      "Page 20\n",
      "https://www.otomoto.pl/osobowe/hyundai/i30/?page=20\n",
      "Page 21\n",
      "https://www.otomoto.pl/osobowe/hyundai/i30/?page=21\n",
      "Page 22\n",
      "https://www.otomoto.pl/osobowe/hyundai/i30/?page=22\n",
      "Page 23\n",
      "https://www.otomoto.pl/osobowe/hyundai/i30/?page=23\n",
      "Page 24\n",
      "https://www.otomoto.pl/osobowe/hyundai/i30/?page=24\n",
      "Page 25\n",
      "https://www.otomoto.pl/osobowe/hyundai/i30/?page=25\n",
      "Page 26\n",
      "https://www.otomoto.pl/osobowe/hyundai/i30/?page=26\n",
      "Page 27\n",
      "https://www.otomoto.pl/osobowe/hyundai/i30/?page=27\n",
      "Page 28\n",
      "https://www.otomoto.pl/osobowe/hyundai/i30/?page=28\n",
      "Page 29\n",
      "https://www.otomoto.pl/osobowe/hyundai/i30/?page=29\n",
      "Page 30\n",
      "https://www.otomoto.pl/osobowe/hyundai/i30/?page=30\n",
      "Page 31\n",
      "https://www.otomoto.pl/osobowe/hyundai/i30/?page=31\n",
      "Page 32\n",
      "https://www.otomoto.pl/osobowe/hyundai/i30/?page=32\n",
      "Page 33\n",
      "https://www.otomoto.pl/osobowe/hyundai/i30/?page=33\n",
      "collecting data error\n",
      "Page 34\n",
      "https://www.otomoto.pl/osobowe/hyundai/i30/?page=34\n",
      "Page 35\n",
      "https://www.otomoto.pl/osobowe/hyundai/i30/?page=35\n",
      "Page 36\n",
      "https://www.otomoto.pl/osobowe/hyundai/i30/?page=36\n",
      "Page 37\n",
      "https://www.otomoto.pl/osobowe/hyundai/i30/?page=37\n",
      "Page 38\n",
      "https://www.otomoto.pl/osobowe/hyundai/i30/?page=38\n",
      "Page 39\n",
      "https://www.otomoto.pl/osobowe/hyundai/i30/?page=39\n",
      "Page 40\n",
      "https://www.otomoto.pl/osobowe/hyundai/i30/?page=40\n",
      "Page 41\n",
      "https://www.otomoto.pl/osobowe/hyundai/i30/?page=41\n",
      "collecting data error\n",
      "Page 42\n",
      "https://www.otomoto.pl/osobowe/hyundai/i30/?page=42\n",
      "Page 43\n",
      "https://www.otomoto.pl/osobowe/hyundai/i30/?page=43\n",
      "Page 44\n",
      "https://www.otomoto.pl/osobowe/hyundai/i30/?page=44\n",
      "Page 45\n",
      "https://www.otomoto.pl/osobowe/hyundai/i30/?page=45\n",
      "Page 46\n",
      "https://www.otomoto.pl/osobowe/hyundai/i30/?page=46\n",
      "Page 47\n",
      "https://www.otomoto.pl/osobowe/hyundai/i30/?page=47\n",
      "Page 48\n",
      "https://www.otomoto.pl/osobowe/hyundai/i30/?page=48\n",
      "Page 49\n",
      "https://www.otomoto.pl/osobowe/hyundai/i30/?page=49\n",
      "Page 50\n",
      "https://www.otomoto.pl/osobowe/hyundai/i30/?page=50\n",
      "Page 51\n",
      "https://www.otomoto.pl/osobowe/hyundai/i30/?page=51\n",
      "Page 52\n",
      "https://www.otomoto.pl/osobowe/hyundai/i30/?page=52\n",
      "Page 53\n",
      "https://www.otomoto.pl/osobowe/hyundai/i30/?page=53\n",
      "Page 54\n",
      "https://www.otomoto.pl/osobowe/hyundai/i30/?page=54\n",
      "Page 55\n",
      "https://www.otomoto.pl/osobowe/hyundai/i30/?page=55\n"
     ]
    }
   ],
   "source": [
    "all_offers_list = get_offers_data(BASE_URL, PAGES_TO_SCRAP)"
   ]
  },
  {
   "cell_type": "code",
   "execution_count": 4,
   "metadata": {},
   "outputs": [
    {
     "data": {
      "text/html": [
       "<div>\n",
       "<style scoped>\n",
       "    .dataframe tbody tr th:only-of-type {\n",
       "        vertical-align: middle;\n",
       "    }\n",
       "\n",
       "    .dataframe tbody tr th {\n",
       "        vertical-align: top;\n",
       "    }\n",
       "\n",
       "    .dataframe thead th {\n",
       "        text-align: right;\n",
       "    }\n",
       "</style>\n",
       "<table border=\"1\" class=\"dataframe\">\n",
       "  <thead>\n",
       "    <tr style=\"text-align: right;\">\n",
       "      <th></th>\n",
       "      <th>year</th>\n",
       "      <th>mileage</th>\n",
       "      <th>fuel_type</th>\n",
       "      <th>price</th>\n",
       "    </tr>\n",
       "  </thead>\n",
       "  <tbody>\n",
       "    <tr>\n",
       "      <th>0</th>\n",
       "      <td>2015</td>\n",
       "      <td>118334</td>\n",
       "      <td>Diesel</td>\n",
       "      <td>38500</td>\n",
       "    </tr>\n",
       "    <tr>\n",
       "      <th>1</th>\n",
       "      <td>2018</td>\n",
       "      <td>18000</td>\n",
       "      <td>Benzyna</td>\n",
       "      <td>59000</td>\n",
       "    </tr>\n",
       "    <tr>\n",
       "      <th>2</th>\n",
       "      <td>2012</td>\n",
       "      <td>97000</td>\n",
       "      <td>Benzyna</td>\n",
       "      <td>24900</td>\n",
       "    </tr>\n",
       "    <tr>\n",
       "      <th>3</th>\n",
       "      <td>2012</td>\n",
       "      <td>150000</td>\n",
       "      <td>Benzyna</td>\n",
       "      <td>21500</td>\n",
       "    </tr>\n",
       "    <tr>\n",
       "      <th>4</th>\n",
       "      <td>2008</td>\n",
       "      <td>171141</td>\n",
       "      <td>Benzyna</td>\n",
       "      <td>14900</td>\n",
       "    </tr>\n",
       "    <tr>\n",
       "      <th>...</th>\n",
       "      <td>...</td>\n",
       "      <td>...</td>\n",
       "      <td>...</td>\n",
       "      <td>...</td>\n",
       "    </tr>\n",
       "    <tr>\n",
       "      <th>1753</th>\n",
       "      <td>2019</td>\n",
       "      <td>18300</td>\n",
       "      <td>Benzyna</td>\n",
       "      <td>53900</td>\n",
       "    </tr>\n",
       "    <tr>\n",
       "      <th>1754</th>\n",
       "      <td>2007</td>\n",
       "      <td>205315</td>\n",
       "      <td>Diesel</td>\n",
       "      <td>13500</td>\n",
       "    </tr>\n",
       "    <tr>\n",
       "      <th>1755</th>\n",
       "      <td>2008</td>\n",
       "      <td>88000</td>\n",
       "      <td>Benzyna</td>\n",
       "      <td>10000</td>\n",
       "    </tr>\n",
       "    <tr>\n",
       "      <th>1756</th>\n",
       "      <td>2008</td>\n",
       "      <td>197350</td>\n",
       "      <td>Benzyna</td>\n",
       "      <td>15000</td>\n",
       "    </tr>\n",
       "    <tr>\n",
       "      <th>1757</th>\n",
       "      <td>2008</td>\n",
       "      <td>307000</td>\n",
       "      <td>Diesel</td>\n",
       "      <td>12177</td>\n",
       "    </tr>\n",
       "  </tbody>\n",
       "</table>\n",
       "<p>1758 rows × 4 columns</p>\n",
       "</div>"
      ],
      "text/plain": [
       "      year  mileage fuel_type  price\n",
       "0     2015   118334    Diesel  38500\n",
       "1     2018    18000   Benzyna  59000\n",
       "2     2012    97000   Benzyna  24900\n",
       "3     2012   150000   Benzyna  21500\n",
       "4     2008   171141   Benzyna  14900\n",
       "...    ...      ...       ...    ...\n",
       "1753  2019    18300   Benzyna  53900\n",
       "1754  2007   205315    Diesel  13500\n",
       "1755  2008    88000   Benzyna  10000\n",
       "1756  2008   197350   Benzyna  15000\n",
       "1757  2008   307000    Diesel  12177\n",
       "\n",
       "[1758 rows x 4 columns]"
      ]
     },
     "execution_count": 4,
     "metadata": {},
     "output_type": "execute_result"
    }
   ],
   "source": [
    "data = pd.DataFrame(all_offers_list)\n",
    "data"
   ]
  },
  {
   "cell_type": "code",
   "execution_count": 5,
   "metadata": {},
   "outputs": [
    {
     "data": {
      "text/html": [
       "<div>\n",
       "<style scoped>\n",
       "    .dataframe tbody tr th:only-of-type {\n",
       "        vertical-align: middle;\n",
       "    }\n",
       "\n",
       "    .dataframe tbody tr th {\n",
       "        vertical-align: top;\n",
       "    }\n",
       "\n",
       "    .dataframe thead th {\n",
       "        text-align: right;\n",
       "    }\n",
       "</style>\n",
       "<table border=\"1\" class=\"dataframe\">\n",
       "  <thead>\n",
       "    <tr style=\"text-align: right;\">\n",
       "      <th></th>\n",
       "      <th>year</th>\n",
       "      <th>mileage</th>\n",
       "      <th>price</th>\n",
       "      <th>fuel_type_Benzyna</th>\n",
       "      <th>fuel_type_Benzyna+LPG</th>\n",
       "      <th>fuel_type_Diesel</th>\n",
       "    </tr>\n",
       "  </thead>\n",
       "  <tbody>\n",
       "    <tr>\n",
       "      <th>0</th>\n",
       "      <td>2015</td>\n",
       "      <td>118334</td>\n",
       "      <td>38500</td>\n",
       "      <td>0</td>\n",
       "      <td>0</td>\n",
       "      <td>1</td>\n",
       "    </tr>\n",
       "    <tr>\n",
       "      <th>1</th>\n",
       "      <td>2018</td>\n",
       "      <td>18000</td>\n",
       "      <td>59000</td>\n",
       "      <td>1</td>\n",
       "      <td>0</td>\n",
       "      <td>0</td>\n",
       "    </tr>\n",
       "    <tr>\n",
       "      <th>2</th>\n",
       "      <td>2012</td>\n",
       "      <td>97000</td>\n",
       "      <td>24900</td>\n",
       "      <td>1</td>\n",
       "      <td>0</td>\n",
       "      <td>0</td>\n",
       "    </tr>\n",
       "    <tr>\n",
       "      <th>3</th>\n",
       "      <td>2012</td>\n",
       "      <td>150000</td>\n",
       "      <td>21500</td>\n",
       "      <td>1</td>\n",
       "      <td>0</td>\n",
       "      <td>0</td>\n",
       "    </tr>\n",
       "    <tr>\n",
       "      <th>4</th>\n",
       "      <td>2008</td>\n",
       "      <td>171141</td>\n",
       "      <td>14900</td>\n",
       "      <td>1</td>\n",
       "      <td>0</td>\n",
       "      <td>0</td>\n",
       "    </tr>\n",
       "    <tr>\n",
       "      <th>...</th>\n",
       "      <td>...</td>\n",
       "      <td>...</td>\n",
       "      <td>...</td>\n",
       "      <td>...</td>\n",
       "      <td>...</td>\n",
       "      <td>...</td>\n",
       "    </tr>\n",
       "    <tr>\n",
       "      <th>1753</th>\n",
       "      <td>2019</td>\n",
       "      <td>18300</td>\n",
       "      <td>53900</td>\n",
       "      <td>1</td>\n",
       "      <td>0</td>\n",
       "      <td>0</td>\n",
       "    </tr>\n",
       "    <tr>\n",
       "      <th>1754</th>\n",
       "      <td>2007</td>\n",
       "      <td>205315</td>\n",
       "      <td>13500</td>\n",
       "      <td>0</td>\n",
       "      <td>0</td>\n",
       "      <td>1</td>\n",
       "    </tr>\n",
       "    <tr>\n",
       "      <th>1755</th>\n",
       "      <td>2008</td>\n",
       "      <td>88000</td>\n",
       "      <td>10000</td>\n",
       "      <td>1</td>\n",
       "      <td>0</td>\n",
       "      <td>0</td>\n",
       "    </tr>\n",
       "    <tr>\n",
       "      <th>1756</th>\n",
       "      <td>2008</td>\n",
       "      <td>197350</td>\n",
       "      <td>15000</td>\n",
       "      <td>1</td>\n",
       "      <td>0</td>\n",
       "      <td>0</td>\n",
       "    </tr>\n",
       "    <tr>\n",
       "      <th>1757</th>\n",
       "      <td>2008</td>\n",
       "      <td>307000</td>\n",
       "      <td>12177</td>\n",
       "      <td>0</td>\n",
       "      <td>0</td>\n",
       "      <td>1</td>\n",
       "    </tr>\n",
       "  </tbody>\n",
       "</table>\n",
       "<p>1758 rows × 6 columns</p>\n",
       "</div>"
      ],
      "text/plain": [
       "      year  mileage  price  fuel_type_Benzyna  fuel_type_Benzyna+LPG  \\\n",
       "0     2015   118334  38500                  0                      0   \n",
       "1     2018    18000  59000                  1                      0   \n",
       "2     2012    97000  24900                  1                      0   \n",
       "3     2012   150000  21500                  1                      0   \n",
       "4     2008   171141  14900                  1                      0   \n",
       "...    ...      ...    ...                ...                    ...   \n",
       "1753  2019    18300  53900                  1                      0   \n",
       "1754  2007   205315  13500                  0                      0   \n",
       "1755  2008    88000  10000                  1                      0   \n",
       "1756  2008   197350  15000                  1                      0   \n",
       "1757  2008   307000  12177                  0                      0   \n",
       "\n",
       "      fuel_type_Diesel  \n",
       "0                    1  \n",
       "1                    0  \n",
       "2                    0  \n",
       "3                    0  \n",
       "4                    0  \n",
       "...                ...  \n",
       "1753                 0  \n",
       "1754                 1  \n",
       "1755                 0  \n",
       "1756                 0  \n",
       "1757                 1  \n",
       "\n",
       "[1758 rows x 6 columns]"
      ]
     },
     "execution_count": 5,
     "metadata": {},
     "output_type": "execute_result"
    }
   ],
   "source": [
    "#to avoid text variables\n",
    "data = pd.get_dummies(data, columns=['fuel_type'])\n",
    "data"
   ]
  },
  {
   "cell_type": "code",
   "execution_count": 6,
   "metadata": {},
   "outputs": [
    {
     "data": {
      "text/plain": [
       "(1758, 6)"
      ]
     },
     "execution_count": 6,
     "metadata": {},
     "output_type": "execute_result"
    }
   ],
   "source": [
    "data.shape"
   ]
  },
  {
   "cell_type": "code",
   "execution_count": 7,
   "metadata": {},
   "outputs": [
    {
     "data": {
      "text/html": [
       "<div>\n",
       "<style scoped>\n",
       "    .dataframe tbody tr th:only-of-type {\n",
       "        vertical-align: middle;\n",
       "    }\n",
       "\n",
       "    .dataframe tbody tr th {\n",
       "        vertical-align: top;\n",
       "    }\n",
       "\n",
       "    .dataframe thead th {\n",
       "        text-align: right;\n",
       "    }\n",
       "</style>\n",
       "<table border=\"1\" class=\"dataframe\">\n",
       "  <thead>\n",
       "    <tr style=\"text-align: right;\">\n",
       "      <th></th>\n",
       "      <th>year</th>\n",
       "      <th>mileage</th>\n",
       "      <th>price</th>\n",
       "      <th>fuel_type_Benzyna</th>\n",
       "      <th>fuel_type_Benzyna+LPG</th>\n",
       "      <th>fuel_type_Diesel</th>\n",
       "    </tr>\n",
       "  </thead>\n",
       "  <tbody>\n",
       "    <tr>\n",
       "      <th>count</th>\n",
       "      <td>1758.000000</td>\n",
       "      <td>1758.000000</td>\n",
       "      <td>1758.000000</td>\n",
       "      <td>1758.000000</td>\n",
       "      <td>1758.000000</td>\n",
       "      <td>1758.000000</td>\n",
       "    </tr>\n",
       "    <tr>\n",
       "      <th>mean</th>\n",
       "      <td>2013.887941</td>\n",
       "      <td>108460.430603</td>\n",
       "      <td>34715.242890</td>\n",
       "      <td>0.612628</td>\n",
       "      <td>0.035267</td>\n",
       "      <td>0.352105</td>\n",
       "    </tr>\n",
       "    <tr>\n",
       "      <th>std</th>\n",
       "      <td>3.995937</td>\n",
       "      <td>75304.435738</td>\n",
       "      <td>19368.116114</td>\n",
       "      <td>0.487288</td>\n",
       "      <td>0.184507</td>\n",
       "      <td>0.477762</td>\n",
       "    </tr>\n",
       "    <tr>\n",
       "      <th>min</th>\n",
       "      <td>2007.000000</td>\n",
       "      <td>1.000000</td>\n",
       "      <td>4150.000000</td>\n",
       "      <td>0.000000</td>\n",
       "      <td>0.000000</td>\n",
       "      <td>0.000000</td>\n",
       "    </tr>\n",
       "    <tr>\n",
       "      <th>25%</th>\n",
       "      <td>2010.000000</td>\n",
       "      <td>33569.000000</td>\n",
       "      <td>18325.000000</td>\n",
       "      <td>0.000000</td>\n",
       "      <td>0.000000</td>\n",
       "      <td>0.000000</td>\n",
       "    </tr>\n",
       "    <tr>\n",
       "      <th>50%</th>\n",
       "      <td>2013.000000</td>\n",
       "      <td>115000.000000</td>\n",
       "      <td>29900.000000</td>\n",
       "      <td>1.000000</td>\n",
       "      <td>0.000000</td>\n",
       "      <td>0.000000</td>\n",
       "    </tr>\n",
       "    <tr>\n",
       "      <th>75%</th>\n",
       "      <td>2018.000000</td>\n",
       "      <td>168000.000000</td>\n",
       "      <td>49350.000000</td>\n",
       "      <td>1.000000</td>\n",
       "      <td>0.000000</td>\n",
       "      <td>1.000000</td>\n",
       "    </tr>\n",
       "    <tr>\n",
       "      <th>max</th>\n",
       "      <td>2020.000000</td>\n",
       "      <td>425000.000000</td>\n",
       "      <td>144800.000000</td>\n",
       "      <td>1.000000</td>\n",
       "      <td>1.000000</td>\n",
       "      <td>1.000000</td>\n",
       "    </tr>\n",
       "  </tbody>\n",
       "</table>\n",
       "</div>"
      ],
      "text/plain": [
       "              year        mileage          price  fuel_type_Benzyna  \\\n",
       "count  1758.000000    1758.000000    1758.000000        1758.000000   \n",
       "mean   2013.887941  108460.430603   34715.242890           0.612628   \n",
       "std       3.995937   75304.435738   19368.116114           0.487288   \n",
       "min    2007.000000       1.000000    4150.000000           0.000000   \n",
       "25%    2010.000000   33569.000000   18325.000000           0.000000   \n",
       "50%    2013.000000  115000.000000   29900.000000           1.000000   \n",
       "75%    2018.000000  168000.000000   49350.000000           1.000000   \n",
       "max    2020.000000  425000.000000  144800.000000           1.000000   \n",
       "\n",
       "       fuel_type_Benzyna+LPG  fuel_type_Diesel  \n",
       "count            1758.000000       1758.000000  \n",
       "mean                0.035267          0.352105  \n",
       "std                 0.184507          0.477762  \n",
       "min                 0.000000          0.000000  \n",
       "25%                 0.000000          0.000000  \n",
       "50%                 0.000000          0.000000  \n",
       "75%                 0.000000          1.000000  \n",
       "max                 1.000000          1.000000  "
      ]
     },
     "execution_count": 7,
     "metadata": {},
     "output_type": "execute_result"
    }
   ],
   "source": [
    "data.describe()"
   ]
  },
  {
   "cell_type": "code",
   "execution_count": 8,
   "metadata": {},
   "outputs": [],
   "source": [
    "X = data.drop(columns='price', axis=1)\n",
    "y = data.price"
   ]
  },
  {
   "cell_type": "markdown",
   "metadata": {},
   "source": [
    "# Modelling"
   ]
  },
  {
   "cell_type": "code",
   "execution_count": 9,
   "metadata": {},
   "outputs": [],
   "source": [
    "from sklearn.linear_model import LogisticRegression\n",
    "from sklearn.linear_model import LinearRegression\n",
    "from sklearn.tree import DecisionTreeClassifier\n",
    "from sklearn.linear_model import Ridge\n",
    "from sklearn.linear_model import Lasso\n",
    "from sklearn.naive_bayes import MultinomialNB\n",
    "from sklearn.model_selection import train_test_split\n",
    "from sklearn.metrics import r2_score\n",
    "from sklearn.ensemble import RandomForestRegressor\n",
    "from sklearn.decomposition import PCA\n",
    "from sklearn.pipeline import Pipeline\n",
    "from sklearn.preprocessing import StandardScaler\n",
    "from sklearn.preprocessing import PolynomialFeatures\n",
    "from sklearn.model_selection import GridSearchCV"
   ]
  },
  {
   "cell_type": "code",
   "execution_count": 10,
   "metadata": {},
   "outputs": [],
   "source": [
    "from warnings import filterwarnings\n",
    "filterwarnings(\"ignore\")"
   ]
  },
  {
   "cell_type": "code",
   "execution_count": 11,
   "metadata": {},
   "outputs": [],
   "source": [
    "# split to train and test data\n",
    "X_train, X_test , y_train, y_test = train_test_split(X,y,test_size=0.33)"
   ]
  },
  {
   "cell_type": "code",
   "execution_count": 12,
   "metadata": {},
   "outputs": [
    {
     "data": {
      "text/plain": [
       "(<AxesSubplot:>, <AxesSubplot:>)"
      ]
     },
     "execution_count": 12,
     "metadata": {},
     "output_type": "execute_result"
    },
    {
     "data": {
      "image/png": "[encoded data removed]",
      "text/plain": [
       "<Figure size 432x288 with 1 Axes>"
      ]
     },
     "metadata": {
      "needs_background": "light"
     },
     "output_type": "display_data"
    }
   ],
   "source": [
    "y_train.hist(), y_test.hist()"
   ]
  },
  {
   "cell_type": "code",
   "execution_count": 13,
   "metadata": {},
   "outputs": [],
   "source": [
    "r2_list = []\n",
    "rmse_list = []\n",
    "y_pred_list = []"
   ]
  },
  {
   "cell_type": "markdown",
   "metadata": {},
   "source": [
    "## LinearRegression"
   ]
  },
  {
   "cell_type": "code",
   "execution_count": 14,
   "metadata": {},
   "outputs": [],
   "source": [
    "model = LinearRegression()\n",
    "model.fit(X_train, y_train)\n",
    "\n",
    "y_pred = model.predict(X_test)\n",
    "y_pred_list.append(y_pred)"
   ]
  },
  {
   "cell_type": "code",
   "execution_count": 15,
   "metadata": {},
   "outputs": [
    {
     "name": "stdout",
     "output_type": "stream",
     "text": [
      "-6817507.153863472\n",
      "[ 3.40634320e+03 -6.43741878e-02  3.64164739e+02  1.58021332e+03\n",
      " -1.94437806e+03]\n"
     ]
    }
   ],
   "source": [
    "print(model.intercept_)\n",
    "print(model.coef_)"
   ]
  },
  {
   "cell_type": "code",
   "execution_count": 16,
   "metadata": {},
   "outputs": [
    {
     "name": "stdout",
     "output_type": "stream",
     "text": [
      "Linear Regression R squared: 0.8164\n"
     ]
    }
   ],
   "source": [
    "print('Linear Regression R squared: %.4f' % model.score(X_test, y_test))\n",
    "r2 = r2_score(y_test, y_pred)\n",
    "r2_list.append(r2)"
   ]
  },
  {
   "cell_type": "code",
   "execution_count": 17,
   "metadata": {},
   "outputs": [
    {
     "name": "stdout",
     "output_type": "stream",
     "text": [
      "RMSE: 7871.71\n"
     ]
    }
   ],
   "source": [
    "from sklearn.metrics import mean_squared_error\n",
    "from math import sqrt\n",
    "\n",
    "rmse_lr = sqrt(mean_squared_error(y_test, y_pred))\n",
    "print('RMSE: %.2f'%rmse_lr)\n",
    "rmse_list.append(rmse_lr)"
   ]
  },
  {
   "cell_type": "code",
   "execution_count": 18,
   "metadata": {},
   "outputs": [
    {
     "data": {
      "text/plain": [
       "[<matplotlib.lines.Line2D at 0x1b205d90>,\n",
       " <matplotlib.lines.Line2D at 0x1b2053d0>]"
      ]
     },
     "execution_count": 18,
     "metadata": {},
     "output_type": "execute_result"
    },
    {
     "data": {
      "image/png": "[encoded data removed]",
      "text/plain": [
       "<Figure size 432x288 with 1 Axes>"
      ]
     },
     "metadata": {
      "needs_background": "light"
     },
     "output_type": "display_data"
    }
   ],
   "source": [
    "plt.plot(y_test, '.', y_pred, '.')"
   ]
  },
  {
   "cell_type": "markdown",
   "metadata": {},
   "source": [
    "## Other models automatized"
   ]
  },
  {
   "cell_type": "code",
   "execution_count": null,
   "metadata": {},
   "outputs": [],
   "source": [
    "\n",
    "pipelines = ([Pipeline([\n",
    "    (\"scaler\", StandardScaler(with_mean=False)),\n",
    "    ('poly', PolynomialFeatures()),\n",
    "    (\"model\", Ridge())]),\n",
    "             Pipeline([\n",
    "    (\"scaler\", StandardScaler(with_mean=False)),\n",
    "    ('poly', PolynomialFeatures()),\n",
    "    (\"model\", Lasso())]),\n",
    "              Pipeline([\n",
    "    ('scaler', StandardScaler()),\n",
    "    ('reduce_dim', PCA()),\n",
    "    ('model', RandomForestRegressor())\n",
    "        ])\n",
    "])\n",
    "\n",
    "\n",
    "param_grids = [{\"model__alpha\":[300,400,500,600],\n",
    "               \"poly__degree\":[1,2,3],\n",
    "               \"scaler__with_std\": [True, False]},\n",
    "               {\"model__alpha\":[0.01,0.1,1,10,100],\n",
    "               \"poly__degree\":[1,2,3],\n",
    "               \"scaler__with_std\": [True, False]},\n",
    "               {\"model__min_samples_leaf\": [10,25,50,100],\n",
    "                \"model__max_depth\": [None, 10],\n",
    "                \"scaler__with_std\": [True, False]\n",
    "               }\n",
    "              ]\n",
    "\n",
    "for model, grid in zip(pipelines, param_grids):\n",
    "    gs = GridSearchCV(model, grid, cv=10)\n",
    "    gs.fit(X_train, y_train)\n",
    "    y_pred = gs.predict(X_test)\n",
    "    rmse = sqrt(mean_squared_error(y_test, y_pred))\n",
    "    r2 = r2_score(y_test, y_pred)\n",
    "    print(f' {model} rmse - {rmse}')\n",
    "    print(f'r2 - {r2}')\n",
    "    print(gs.best_params_)\n",
    "    rmse_list.append(rmse)\n",
    "    r2_list.append(r2)\n",
    "    y_pred_list.append(y_pred)"
   ]
  },
  {
   "cell_type": "code",
   "execution_count": null,
   "metadata": {},
   "outputs": [],
   "source": [
    "d = {'r2_score': r2_list, \n",
    "     'rmse': rmse_list\n",
    "    }\n",
    "df = pd.DataFrame(data=d)\n",
    "df.insert(loc=0, column='Method', value=['LR', 'Ridge', 'Lasso', 'RandomForrestRegr'])\n",
    "df.sort_values(by=['r2_score'] ,ascending=False)"
   ]
  },
  {
   "cell_type": "code",
   "execution_count": null,
   "metadata": {},
   "outputs": [],
   "source": [
    "plt.figure(figsize=(15,5))\n",
    "sns.barplot(x='Method', y='rmse', data=df.drop(columns='r2_score'), label='RMSE')"
   ]
  },
  {
   "cell_type": "code",
   "execution_count": null,
   "metadata": {},
   "outputs": [],
   "source": [
    "plt.figure(figsize=(15,5))\n",
    "sns.barplot(x='Method', y='r2_score', data=df.drop(columns='rmse'), label='R2')"
   ]
  },
  {
   "cell_type": "markdown",
   "metadata": {},
   "source": [
    "# Final results\n",
    "Ridge regression seems to be the most accurate but the differences are not that visible. The worst model was linear regression with r2 score 0,829 and RMSE 8162,58"
   ]
  },
  {
   "cell_type": "code",
   "execution_count": null,
   "metadata": {},
   "outputs": [],
   "source": []
  }
 ],
 "metadata": {
  "kernelspec": {
   "display_name": "Python 3",
   "language": "python",
   "name": "python3"
  },
  "language_info": {
   "codemirror_mode": {
    "name": "ipython",
    "version": 3
   },
   "file_extension": ".py",
   "mimetype": "text/x-python",
   "name": "python",
   "nbconvert_exporter": "python",
   "pygments_lexer": "ipython3",
   "version": "3.8.1"
  }
 },
 "nbformat": 4,
 "nbformat_minor": 4
}
