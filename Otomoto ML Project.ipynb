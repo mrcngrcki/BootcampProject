{
 "cells": [
  {
   "cell_type": "markdown",
   "metadata": {},
   "source": [
    "# Prediction of car prices\n",
    "Goal of the project is to create the best model to predict car prices.\n",
    "Data is based on one of the Polish biggest automotive website, otomoto.pl"
   ]
  },
  {
   "cell_type": "code",
   "execution_count": 1,
   "metadata": {},
   "outputs": [],
   "source": [
    "# bs4 webscraping, requests get source code, numpy/pandas data management, matplotlib charts\n",
    "from bs4 import BeautifulSoup\n",
    "import requests\n",
    "import numpy as np\n",
    "import pandas as pd\n",
    "import matplotlib.pyplot as plt\n",
    "import seaborn as sns\n",
    "%matplotlib inline"
   ]
  },
  {
   "cell_type": "code",
   "execution_count": 2,
   "metadata": {},
   "outputs": [],
   "source": [
    "#Example car will be Hyundai i30\n",
    "BASE_URL = r'https://www.otomoto.pl/osobowe/hyundai/i30/'\n",
    "\n",
    "\"\"\"\n",
    "Class of car offer with all parameters from the website\n",
    "\"\"\"\n",
    "class Offer:\n",
    "    def __init__(self, year:int, mileage:int, fuel_type:str,price:int):\n",
    "        self.year = year\n",
    "        self.mileage = mileage\n",
    "        self.fuel_type = fuel_type\n",
    "        self.price = price\n",
    "\n",
    "        \n",
    "\"\"\"\n",
    "Function checks maximum number of pages with offers\n",
    "\"\"\"\n",
    "def get_pages_number(url:str):\n",
    "    html = requests.get(url).text\n",
    "    main_page = BeautifulSoup(html, 'lxml')\n",
    "    pages_number = main_page.select('.page')[-1].text\n",
    "    return int(pages_number)\n",
    "\n",
    "PAGES_TO_SCRAP = get_pages_number(BASE_URL)\n",
    "    \n",
    "\"\"\"\n",
    "Returns list of all offers objects\n",
    "\"\"\"\n",
    "def get_offers_data(url:str, page_number:int):\n",
    "    offers_list = []\n",
    "    for page in range(1,PAGES_TO_SCRAP):\n",
    "        print(f'Page {page}')\n",
    "        page_url = url + f'?page={page}'\n",
    "        print(page_url)\n",
    "        html = requests.get(page_url).text\n",
    "        main_page = BeautifulSoup(html, 'lxml')\n",
    "        offers = main_page.select('.offer-item__content')\n",
    "        for offer in offers:\n",
    "            try:\n",
    "                offer_url = offer.select('.offer-title__link')[0].attrs['href']\n",
    "                year = int(offer.find('li', {'data-code':'year'}).text.strip())\n",
    "                mileage = int(offer.find('li', {'data-code':'mileage'}).text.strip()[:-3].replace(\" \",\"\"))\n",
    "                fuel_type = offer.find('li', {'data-code':'fuel_type'}).text.strip()\n",
    "                price = int(offer.select('.offer-price__number')[0].span.text.strip().replace(\" \",\"\"))\n",
    "\n",
    "                offer_object = Offer(year, mileage, fuel_type, price)\n",
    "                #print(offer_object.__dict__)\n",
    "                offers_list.append(offer_object.__dict__)\n",
    "            except:\n",
    "                print('collecting data error')\n",
    "                \n",
    "    return offers_list"
   ]
  },
  {
   "cell_type": "code",
   "execution_count": 3,
   "metadata": {},
   "outputs": [
    {
     "name": "stdout",
     "output_type": "stream",
     "text": [
      "Page 1\n",
      "https://www.otomoto.pl/osobowe/hyundai/i30/?page=1\n",
      "Page 2\n",
      "https://www.otomoto.pl/osobowe/hyundai/i30/?page=2\n",
      "Page 3\n",
      "https://www.otomoto.pl/osobowe/hyundai/i30/?page=3\n",
      "Page 4\n",
      "https://www.otomoto.pl/osobowe/hyundai/i30/?page=4\n",
      "Page 5\n",
      "https://www.otomoto.pl/osobowe/hyundai/i30/?page=5\n",
      "Page 6\n",
      "https://www.otomoto.pl/osobowe/hyundai/i30/?page=6\n",
      "Page 7\n",
      "https://www.otomoto.pl/osobowe/hyundai/i30/?page=7\n",
      "Page 8\n",
      "https://www.otomoto.pl/osobowe/hyundai/i30/?page=8\n",
      "Page 9\n",
      "https://www.otomoto.pl/osobowe/hyundai/i30/?page=9\n",
      "Page 10\n",
      "https://www.otomoto.pl/osobowe/hyundai/i30/?page=10\n",
      "Page 11\n",
      "https://www.otomoto.pl/osobowe/hyundai/i30/?page=11\n",
      "Page 12\n",
      "https://www.otomoto.pl/osobowe/hyundai/i30/?page=12\n",
      "Page 13\n",
      "https://www.otomoto.pl/osobowe/hyundai/i30/?page=13\n",
      "Page 14\n",
      "https://www.otomoto.pl/osobowe/hyundai/i30/?page=14\n",
      "Page 15\n",
      "https://www.otomoto.pl/osobowe/hyundai/i30/?page=15\n",
      "Page 16\n",
      "https://www.otomoto.pl/osobowe/hyundai/i30/?page=16\n",
      "Page 17\n",
      "https://www.otomoto.pl/osobowe/hyundai/i30/?page=17\n",
      "Page 18\n",
      "https://www.otomoto.pl/osobowe/hyundai/i30/?page=18\n",
      "Page 19\n",
      "https://www.otomoto.pl/osobowe/hyundai/i30/?page=19\n",
      "Page 20\n",
      "https://www.otomoto.pl/osobowe/hyundai/i30/?page=20\n",
      "Page 21\n",
      "https://www.otomoto.pl/osobowe/hyundai/i30/?page=21\n",
      "Page 22\n",
      "https://www.otomoto.pl/osobowe/hyundai/i30/?page=22\n",
      "Page 23\n",
      "https://www.otomoto.pl/osobowe/hyundai/i30/?page=23\n",
      "Page 24\n",
      "https://www.otomoto.pl/osobowe/hyundai/i30/?page=24\n",
      "Page 25\n",
      "https://www.otomoto.pl/osobowe/hyundai/i30/?page=25\n",
      "Page 26\n",
      "https://www.otomoto.pl/osobowe/hyundai/i30/?page=26\n",
      "Page 27\n",
      "https://www.otomoto.pl/osobowe/hyundai/i30/?page=27\n",
      "collecting data error\n",
      "Page 28\n",
      "https://www.otomoto.pl/osobowe/hyundai/i30/?page=28\n",
      "Page 29\n",
      "https://www.otomoto.pl/osobowe/hyundai/i30/?page=29\n",
      "Page 30\n",
      "https://www.otomoto.pl/osobowe/hyundai/i30/?page=30\n",
      "Page 31\n",
      "https://www.otomoto.pl/osobowe/hyundai/i30/?page=31\n",
      "Page 32\n",
      "https://www.otomoto.pl/osobowe/hyundai/i30/?page=32\n",
      "Page 33\n",
      "https://www.otomoto.pl/osobowe/hyundai/i30/?page=33\n",
      "Page 34\n",
      "https://www.otomoto.pl/osobowe/hyundai/i30/?page=34\n",
      "Page 35\n",
      "https://www.otomoto.pl/osobowe/hyundai/i30/?page=35\n",
      "collecting data error\n",
      "Page 36\n",
      "https://www.otomoto.pl/osobowe/hyundai/i30/?page=36\n",
      "Page 37\n",
      "https://www.otomoto.pl/osobowe/hyundai/i30/?page=37\n",
      "Page 38\n",
      "https://www.otomoto.pl/osobowe/hyundai/i30/?page=38\n",
      "Page 39\n",
      "https://www.otomoto.pl/osobowe/hyundai/i30/?page=39\n",
      "Page 40\n",
      "https://www.otomoto.pl/osobowe/hyundai/i30/?page=40\n",
      "Page 41\n",
      "https://www.otomoto.pl/osobowe/hyundai/i30/?page=41\n",
      "Page 42\n",
      "https://www.otomoto.pl/osobowe/hyundai/i30/?page=42\n",
      "Page 43\n",
      "https://www.otomoto.pl/osobowe/hyundai/i30/?page=43\n",
      "Page 44\n",
      "https://www.otomoto.pl/osobowe/hyundai/i30/?page=44\n",
      "Page 45\n",
      "https://www.otomoto.pl/osobowe/hyundai/i30/?page=45\n",
      "Page 46\n",
      "https://www.otomoto.pl/osobowe/hyundai/i30/?page=46\n",
      "Page 47\n",
      "https://www.otomoto.pl/osobowe/hyundai/i30/?page=47\n",
      "Page 48\n",
      "https://www.otomoto.pl/osobowe/hyundai/i30/?page=48\n",
      "Page 49\n",
      "https://www.otomoto.pl/osobowe/hyundai/i30/?page=49\n",
      "Page 50\n",
      "https://www.otomoto.pl/osobowe/hyundai/i30/?page=50\n",
      "Page 51\n",
      "https://www.otomoto.pl/osobowe/hyundai/i30/?page=51\n",
      "Page 52\n",
      "https://www.otomoto.pl/osobowe/hyundai/i30/?page=52\n",
      "Page 53\n",
      "https://www.otomoto.pl/osobowe/hyundai/i30/?page=53\n",
      "Page 54\n",
      "https://www.otomoto.pl/osobowe/hyundai/i30/?page=54\n",
      "Page 55\n",
      "https://www.otomoto.pl/osobowe/hyundai/i30/?page=55\n",
      "Page 56\n",
      "https://www.otomoto.pl/osobowe/hyundai/i30/?page=56\n"
     ]
    }
   ],
   "source": [
    "all_offers_list = get_offers_data(BASE_URL, PAGES_TO_SCRAP)"
   ]
  },
  {
   "cell_type": "code",
   "execution_count": 4,
   "metadata": {},
   "outputs": [
    {
     "data": {
      "text/html": [
       "<div>\n",
       "<style scoped>\n",
       "    .dataframe tbody tr th:only-of-type {\n",
       "        vertical-align: middle;\n",
       "    }\n",
       "\n",
       "    .dataframe tbody tr th {\n",
       "        vertical-align: top;\n",
       "    }\n",
       "\n",
       "    .dataframe thead th {\n",
       "        text-align: right;\n",
       "    }\n",
       "</style>\n",
       "<table border=\"1\" class=\"dataframe\">\n",
       "  <thead>\n",
       "    <tr style=\"text-align: right;\">\n",
       "      <th></th>\n",
       "      <th>year</th>\n",
       "      <th>mileage</th>\n",
       "      <th>fuel_type</th>\n",
       "      <th>price</th>\n",
       "    </tr>\n",
       "  </thead>\n",
       "  <tbody>\n",
       "    <tr>\n",
       "      <th>0</th>\n",
       "      <td>2013</td>\n",
       "      <td>53337</td>\n",
       "      <td>Benzyna</td>\n",
       "      <td>31000</td>\n",
       "    </tr>\n",
       "    <tr>\n",
       "      <th>1</th>\n",
       "      <td>2019</td>\n",
       "      <td>23603</td>\n",
       "      <td>Benzyna</td>\n",
       "      <td>52900</td>\n",
       "    </tr>\n",
       "    <tr>\n",
       "      <th>2</th>\n",
       "      <td>2019</td>\n",
       "      <td>40056</td>\n",
       "      <td>Benzyna</td>\n",
       "      <td>51900</td>\n",
       "    </tr>\n",
       "    <tr>\n",
       "      <th>3</th>\n",
       "      <td>2019</td>\n",
       "      <td>23390</td>\n",
       "      <td>Benzyna</td>\n",
       "      <td>52900</td>\n",
       "    </tr>\n",
       "    <tr>\n",
       "      <th>4</th>\n",
       "      <td>2016</td>\n",
       "      <td>126814</td>\n",
       "      <td>Diesel</td>\n",
       "      <td>32900</td>\n",
       "    </tr>\n",
       "    <tr>\n",
       "      <th>...</th>\n",
       "      <td>...</td>\n",
       "      <td>...</td>\n",
       "      <td>...</td>\n",
       "      <td>...</td>\n",
       "    </tr>\n",
       "    <tr>\n",
       "      <th>1785</th>\n",
       "      <td>2011</td>\n",
       "      <td>119000</td>\n",
       "      <td>Diesel</td>\n",
       "      <td>19900</td>\n",
       "    </tr>\n",
       "    <tr>\n",
       "      <th>1786</th>\n",
       "      <td>2009</td>\n",
       "      <td>121000</td>\n",
       "      <td>Benzyna</td>\n",
       "      <td>15500</td>\n",
       "    </tr>\n",
       "    <tr>\n",
       "      <th>1787</th>\n",
       "      <td>2012</td>\n",
       "      <td>178000</td>\n",
       "      <td>Diesel</td>\n",
       "      <td>25500</td>\n",
       "    </tr>\n",
       "    <tr>\n",
       "      <th>1788</th>\n",
       "      <td>2018</td>\n",
       "      <td>28228</td>\n",
       "      <td>Benzyna</td>\n",
       "      <td>51500</td>\n",
       "    </tr>\n",
       "    <tr>\n",
       "      <th>1789</th>\n",
       "      <td>2018</td>\n",
       "      <td>14995</td>\n",
       "      <td>Benzyna</td>\n",
       "      <td>52900</td>\n",
       "    </tr>\n",
       "  </tbody>\n",
       "</table>\n",
       "<p>1790 rows × 4 columns</p>\n",
       "</div>"
      ],
      "text/plain": [
       "      year  mileage fuel_type  price\n",
       "0     2013    53337   Benzyna  31000\n",
       "1     2019    23603   Benzyna  52900\n",
       "2     2019    40056   Benzyna  51900\n",
       "3     2019    23390   Benzyna  52900\n",
       "4     2016   126814    Diesel  32900\n",
       "...    ...      ...       ...    ...\n",
       "1785  2011   119000    Diesel  19900\n",
       "1786  2009   121000   Benzyna  15500\n",
       "1787  2012   178000    Diesel  25500\n",
       "1788  2018    28228   Benzyna  51500\n",
       "1789  2018    14995   Benzyna  52900\n",
       "\n",
       "[1790 rows x 4 columns]"
      ]
     },
     "execution_count": 4,
     "metadata": {},
     "output_type": "execute_result"
    }
   ],
   "source": [
    "data = pd.DataFrame(all_offers_list)\n",
    "data"
   ]
  },
  {
   "cell_type": "code",
   "execution_count": 5,
   "metadata": {},
   "outputs": [
    {
     "data": {
      "text/html": [
       "<div>\n",
       "<style scoped>\n",
       "    .dataframe tbody tr th:only-of-type {\n",
       "        vertical-align: middle;\n",
       "    }\n",
       "\n",
       "    .dataframe tbody tr th {\n",
       "        vertical-align: top;\n",
       "    }\n",
       "\n",
       "    .dataframe thead th {\n",
       "        text-align: right;\n",
       "    }\n",
       "</style>\n",
       "<table border=\"1\" class=\"dataframe\">\n",
       "  <thead>\n",
       "    <tr style=\"text-align: right;\">\n",
       "      <th></th>\n",
       "      <th>year</th>\n",
       "      <th>mileage</th>\n",
       "      <th>price</th>\n",
       "      <th>fuel_type_Benzyna</th>\n",
       "      <th>fuel_type_Benzyna+LPG</th>\n",
       "      <th>fuel_type_Diesel</th>\n",
       "    </tr>\n",
       "  </thead>\n",
       "  <tbody>\n",
       "    <tr>\n",
       "      <th>0</th>\n",
       "      <td>2013</td>\n",
       "      <td>53337</td>\n",
       "      <td>31000</td>\n",
       "      <td>1</td>\n",
       "      <td>0</td>\n",
       "      <td>0</td>\n",
       "    </tr>\n",
       "    <tr>\n",
       "      <th>1</th>\n",
       "      <td>2019</td>\n",
       "      <td>23603</td>\n",
       "      <td>52900</td>\n",
       "      <td>1</td>\n",
       "      <td>0</td>\n",
       "      <td>0</td>\n",
       "    </tr>\n",
       "    <tr>\n",
       "      <th>2</th>\n",
       "      <td>2019</td>\n",
       "      <td>40056</td>\n",
       "      <td>51900</td>\n",
       "      <td>1</td>\n",
       "      <td>0</td>\n",
       "      <td>0</td>\n",
       "    </tr>\n",
       "    <tr>\n",
       "      <th>3</th>\n",
       "      <td>2019</td>\n",
       "      <td>23390</td>\n",
       "      <td>52900</td>\n",
       "      <td>1</td>\n",
       "      <td>0</td>\n",
       "      <td>0</td>\n",
       "    </tr>\n",
       "    <tr>\n",
       "      <th>4</th>\n",
       "      <td>2016</td>\n",
       "      <td>126814</td>\n",
       "      <td>32900</td>\n",
       "      <td>0</td>\n",
       "      <td>0</td>\n",
       "      <td>1</td>\n",
       "    </tr>\n",
       "    <tr>\n",
       "      <th>...</th>\n",
       "      <td>...</td>\n",
       "      <td>...</td>\n",
       "      <td>...</td>\n",
       "      <td>...</td>\n",
       "      <td>...</td>\n",
       "      <td>...</td>\n",
       "    </tr>\n",
       "    <tr>\n",
       "      <th>1785</th>\n",
       "      <td>2011</td>\n",
       "      <td>119000</td>\n",
       "      <td>19900</td>\n",
       "      <td>0</td>\n",
       "      <td>0</td>\n",
       "      <td>1</td>\n",
       "    </tr>\n",
       "    <tr>\n",
       "      <th>1786</th>\n",
       "      <td>2009</td>\n",
       "      <td>121000</td>\n",
       "      <td>15500</td>\n",
       "      <td>1</td>\n",
       "      <td>0</td>\n",
       "      <td>0</td>\n",
       "    </tr>\n",
       "    <tr>\n",
       "      <th>1787</th>\n",
       "      <td>2012</td>\n",
       "      <td>178000</td>\n",
       "      <td>25500</td>\n",
       "      <td>0</td>\n",
       "      <td>0</td>\n",
       "      <td>1</td>\n",
       "    </tr>\n",
       "    <tr>\n",
       "      <th>1788</th>\n",
       "      <td>2018</td>\n",
       "      <td>28228</td>\n",
       "      <td>51500</td>\n",
       "      <td>1</td>\n",
       "      <td>0</td>\n",
       "      <td>0</td>\n",
       "    </tr>\n",
       "    <tr>\n",
       "      <th>1789</th>\n",
       "      <td>2018</td>\n",
       "      <td>14995</td>\n",
       "      <td>52900</td>\n",
       "      <td>1</td>\n",
       "      <td>0</td>\n",
       "      <td>0</td>\n",
       "    </tr>\n",
       "  </tbody>\n",
       "</table>\n",
       "<p>1790 rows × 6 columns</p>\n",
       "</div>"
      ],
      "text/plain": [
       "      year  mileage  price  fuel_type_Benzyna  fuel_type_Benzyna+LPG  \\\n",
       "0     2013    53337  31000                  1                      0   \n",
       "1     2019    23603  52900                  1                      0   \n",
       "2     2019    40056  51900                  1                      0   \n",
       "3     2019    23390  52900                  1                      0   \n",
       "4     2016   126814  32900                  0                      0   \n",
       "...    ...      ...    ...                ...                    ...   \n",
       "1785  2011   119000  19900                  0                      0   \n",
       "1786  2009   121000  15500                  1                      0   \n",
       "1787  2012   178000  25500                  0                      0   \n",
       "1788  2018    28228  51500                  1                      0   \n",
       "1789  2018    14995  52900                  1                      0   \n",
       "\n",
       "      fuel_type_Diesel  \n",
       "0                    0  \n",
       "1                    0  \n",
       "2                    0  \n",
       "3                    0  \n",
       "4                    1  \n",
       "...                ...  \n",
       "1785                 1  \n",
       "1786                 0  \n",
       "1787                 1  \n",
       "1788                 0  \n",
       "1789                 0  \n",
       "\n",
       "[1790 rows x 6 columns]"
      ]
     },
     "execution_count": 5,
     "metadata": {},
     "output_type": "execute_result"
    }
   ],
   "source": [
    "#to avoid text variables\n",
    "data = pd.get_dummies(data, columns=['fuel_type'])\n",
    "data"
   ]
  },
  {
   "cell_type": "code",
   "execution_count": 6,
   "metadata": {},
   "outputs": [
    {
     "data": {
      "text/plain": [
       "(1790, 6)"
      ]
     },
     "execution_count": 6,
     "metadata": {},
     "output_type": "execute_result"
    }
   ],
   "source": [
    "data.shape"
   ]
  },
  {
   "cell_type": "code",
   "execution_count": 7,
   "metadata": {},
   "outputs": [
    {
     "data": {
      "text/html": [
       "<div>\n",
       "<style scoped>\n",
       "    .dataframe tbody tr th:only-of-type {\n",
       "        vertical-align: middle;\n",
       "    }\n",
       "\n",
       "    .dataframe tbody tr th {\n",
       "        vertical-align: top;\n",
       "    }\n",
       "\n",
       "    .dataframe thead th {\n",
       "        text-align: right;\n",
       "    }\n",
       "</style>\n",
       "<table border=\"1\" class=\"dataframe\">\n",
       "  <thead>\n",
       "    <tr style=\"text-align: right;\">\n",
       "      <th></th>\n",
       "      <th>year</th>\n",
       "      <th>mileage</th>\n",
       "      <th>price</th>\n",
       "      <th>fuel_type_Benzyna</th>\n",
       "      <th>fuel_type_Benzyna+LPG</th>\n",
       "      <th>fuel_type_Diesel</th>\n",
       "    </tr>\n",
       "  </thead>\n",
       "  <tbody>\n",
       "    <tr>\n",
       "      <th>count</th>\n",
       "      <td>1790.000000</td>\n",
       "      <td>1790.000000</td>\n",
       "      <td>1790.000000</td>\n",
       "      <td>1790.000000</td>\n",
       "      <td>1790.000000</td>\n",
       "      <td>1790.000000</td>\n",
       "    </tr>\n",
       "    <tr>\n",
       "      <th>mean</th>\n",
       "      <td>2013.884916</td>\n",
       "      <td>108408.187709</td>\n",
       "      <td>34692.703352</td>\n",
       "      <td>0.618436</td>\n",
       "      <td>0.032961</td>\n",
       "      <td>0.348603</td>\n",
       "    </tr>\n",
       "    <tr>\n",
       "      <th>std</th>\n",
       "      <td>4.003652</td>\n",
       "      <td>75821.654047</td>\n",
       "      <td>19314.599398</td>\n",
       "      <td>0.485906</td>\n",
       "      <td>0.178584</td>\n",
       "      <td>0.476661</td>\n",
       "    </tr>\n",
       "    <tr>\n",
       "      <th>min</th>\n",
       "      <td>2007.000000</td>\n",
       "      <td>1.000000</td>\n",
       "      <td>2214.000000</td>\n",
       "      <td>0.000000</td>\n",
       "      <td>0.000000</td>\n",
       "      <td>0.000000</td>\n",
       "    </tr>\n",
       "    <tr>\n",
       "      <th>25%</th>\n",
       "      <td>2010.000000</td>\n",
       "      <td>33056.500000</td>\n",
       "      <td>18300.000000</td>\n",
       "      <td>0.000000</td>\n",
       "      <td>0.000000</td>\n",
       "      <td>0.000000</td>\n",
       "    </tr>\n",
       "    <tr>\n",
       "      <th>50%</th>\n",
       "      <td>2013.000000</td>\n",
       "      <td>112736.500000</td>\n",
       "      <td>29900.000000</td>\n",
       "      <td>1.000000</td>\n",
       "      <td>0.000000</td>\n",
       "      <td>0.000000</td>\n",
       "    </tr>\n",
       "    <tr>\n",
       "      <th>75%</th>\n",
       "      <td>2018.000000</td>\n",
       "      <td>168000.000000</td>\n",
       "      <td>49400.000000</td>\n",
       "      <td>1.000000</td>\n",
       "      <td>0.000000</td>\n",
       "      <td>1.000000</td>\n",
       "    </tr>\n",
       "    <tr>\n",
       "      <th>max</th>\n",
       "      <td>2020.000000</td>\n",
       "      <td>425000.000000</td>\n",
       "      <td>144800.000000</td>\n",
       "      <td>1.000000</td>\n",
       "      <td>1.000000</td>\n",
       "      <td>1.000000</td>\n",
       "    </tr>\n",
       "  </tbody>\n",
       "</table>\n",
       "</div>"
      ],
      "text/plain": [
       "              year        mileage          price  fuel_type_Benzyna  \\\n",
       "count  1790.000000    1790.000000    1790.000000        1790.000000   \n",
       "mean   2013.884916  108408.187709   34692.703352           0.618436   \n",
       "std       4.003652   75821.654047   19314.599398           0.485906   \n",
       "min    2007.000000       1.000000    2214.000000           0.000000   \n",
       "25%    2010.000000   33056.500000   18300.000000           0.000000   \n",
       "50%    2013.000000  112736.500000   29900.000000           1.000000   \n",
       "75%    2018.000000  168000.000000   49400.000000           1.000000   \n",
       "max    2020.000000  425000.000000  144800.000000           1.000000   \n",
       "\n",
       "       fuel_type_Benzyna+LPG  fuel_type_Diesel  \n",
       "count            1790.000000       1790.000000  \n",
       "mean                0.032961          0.348603  \n",
       "std                 0.178584          0.476661  \n",
       "min                 0.000000          0.000000  \n",
       "25%                 0.000000          0.000000  \n",
       "50%                 0.000000          0.000000  \n",
       "75%                 0.000000          1.000000  \n",
       "max                 1.000000          1.000000  "
      ]
     },
     "execution_count": 7,
     "metadata": {},
     "output_type": "execute_result"
    }
   ],
   "source": [
    "data.describe()"
   ]
  },
  {
   "cell_type": "code",
   "execution_count": 8,
   "metadata": {},
   "outputs": [],
   "source": [
    "X = data.drop(columns='price', axis=1)\n",
    "y = data.price"
   ]
  },
  {
   "cell_type": "markdown",
   "metadata": {},
   "source": [
    "# Modelling"
   ]
  },
  {
   "cell_type": "code",
   "execution_count": 9,
   "metadata": {},
   "outputs": [],
   "source": [
    "from sklearn.linear_model import LogisticRegression\n",
    "from sklearn.linear_model import LinearRegression\n",
    "from sklearn.tree import DecisionTreeClassifier\n",
    "from sklearn.linear_model import Ridge\n",
    "from sklearn.linear_model import Lasso\n",
    "from sklearn.naive_bayes import MultinomialNB\n",
    "from sklearn.model_selection import train_test_split\n",
    "from sklearn.metrics import accuracy_score"
   ]
  },
  {
   "cell_type": "code",
   "execution_count": 10,
   "metadata": {},
   "outputs": [],
   "source": [
    "from warnings import filterwarnings\n",
    "filterwarnings(\"ignore\")"
   ]
  },
  {
   "cell_type": "code",
   "execution_count": 11,
   "metadata": {},
   "outputs": [],
   "source": [
    "# split to train and test data\n",
    "X_train, X_test , y_train, y_test = train_test_split(X,y,test_size=0.33)"
   ]
  },
  {
   "cell_type": "code",
   "execution_count": 12,
   "metadata": {},
   "outputs": [
    {
     "data": {
      "text/plain": [
       "(<AxesSubplot:>, <AxesSubplot:>)"
      ]
     },
     "execution_count": 12,
     "metadata": {},
     "output_type": "execute_result"
    },
    {
     "data": {
      "image/png": "[encoded data removed]",
      "text/plain": [
       "<Figure size 432x288 with 1 Axes>"
      ]
     },
     "metadata": {
      "needs_background": "light"
     },
     "output_type": "display_data"
    }
   ],
   "source": [
    "y_train.hist(), y_test.hist()"
   ]
  },
  {
   "cell_type": "code",
   "execution_count": 13,
   "metadata": {},
   "outputs": [],
   "source": [
    "r2_list = []\n",
    "rmse_list = []"
   ]
  },
  {
   "cell_type": "markdown",
   "metadata": {},
   "source": [
    "## LinearRegression"
   ]
  },
  {
   "cell_type": "code",
   "execution_count": 14,
   "metadata": {},
   "outputs": [],
   "source": [
    "model = LinearRegression()\n",
    "model.fit(X_train, y_train)\n",
    "\n",
    "y_pred = model.predict(X_test)"
   ]
  },
  {
   "cell_type": "code",
   "execution_count": 15,
   "metadata": {},
   "outputs": [
    {
     "name": "stdout",
     "output_type": "stream",
     "text": [
      "-6997013.554372811\n",
      "[ 3.49438088e+03 -5.03895856e-02  1.03198774e+03  1.06910602e+03\n",
      " -2.10109376e+03]\n"
     ]
    }
   ],
   "source": [
    "print(model.intercept_)\n",
    "print(model.coef_)"
   ]
  },
  {
   "cell_type": "code",
   "execution_count": 16,
   "metadata": {},
   "outputs": [
    {
     "name": "stdout",
     "output_type": "stream",
     "text": [
      "Linear Regression R squared: 0.8224\n"
     ]
    }
   ],
   "source": [
    "print('Linear Regression R squared: %.4f' % model.score(X_test, y_test))\n",
    "r2 = model.score(X_test, y_test)\n",
    "r2_list.append(r2)"
   ]
  },
  {
   "cell_type": "code",
   "execution_count": 17,
   "metadata": {},
   "outputs": [
    {
     "name": "stdout",
     "output_type": "stream",
     "text": [
      "RMSE: 8023.45\n"
     ]
    }
   ],
   "source": [
    "from sklearn.metrics import mean_squared_error\n",
    "from math import sqrt\n",
    "\n",
    "rmse_lr = sqrt(mean_squared_error(y_test, y_pred))\n",
    "print('RMSE: %.2f'%rmse_lr)\n",
    "rmse_list.append(rmse_lr)"
   ]
  },
  {
   "cell_type": "markdown",
   "metadata": {},
   "source": [
    "### LinearRegression with scaling"
   ]
  },
  {
   "cell_type": "code",
   "execution_count": 18,
   "metadata": {},
   "outputs": [
    {
     "name": "stdout",
     "output_type": "stream",
     "text": [
      "Linear Regression with scaler R squared: 0.8224\n",
      "RMSE: 8023.45\n"
     ]
    }
   ],
   "source": [
    "from sklearn.pipeline import Pipeline\n",
    "from sklearn.preprocessing import StandardScaler\n",
    "from sklearn.metrics import r2_score\n",
    "\n",
    "pipe = Pipeline([(\"scaler\", StandardScaler()),\n",
    "                 (\"model\", LinearRegression())])\n",
    "\n",
    "pipe.fit(X_train, y_train)\n",
    "y_pred_lrscal = pipe.predict(X_test)\n",
    "\n",
    "rmse = sqrt(mean_squared_error(y_test, y_pred))\n",
    "print('Linear Regression with scaler R squared: %.4f' % r2_score(y_test, y_pred))\n",
    "print('RMSE: %.2f'%rmse )\n",
    "r2_list.append(r2_score(y_test, y_pred))\n",
    "rmse_list.append(rmse)"
   ]
  },
  {
   "cell_type": "markdown",
   "metadata": {},
   "source": [
    "## LogisticRegression"
   ]
  },
  {
   "cell_type": "code",
   "execution_count": 19,
   "metadata": {},
   "outputs": [
    {
     "data": {
      "text/plain": [
       "GridSearchCV(cv=10, error_score=nan,\n",
       "             estimator=Pipeline(memory=None,\n",
       "                                steps=[('poly',\n",
       "                                        PolynomialFeatures(degree=2,\n",
       "                                                           include_bias=True,\n",
       "                                                           interaction_only=False,\n",
       "                                                           order='C')),\n",
       "                                       ('scaler',\n",
       "                                        StandardScaler(copy=True,\n",
       "                                                       with_mean=True,\n",
       "                                                       with_std=True)),\n",
       "                                       ('model',\n",
       "                                        LogisticRegression(C=1.0,\n",
       "                                                           class_weight=None,\n",
       "                                                           dual=False,\n",
       "                                                           fit_intercept=True,\n",
       "                                                           intercept_scaling=1,\n",
       "                                                           l1_ratio=None,\n",
       "                                                           max_it...\n",
       "                                                           n_jobs=None,\n",
       "                                                           penalty='l2',\n",
       "                                                           random_state=None,\n",
       "                                                           solver='lbfgs',\n",
       "                                                           tol=0.0001,\n",
       "                                                           verbose=0,\n",
       "                                                           warm_start=False))],\n",
       "                                verbose=False),\n",
       "             iid='deprecated', n_jobs=-1,\n",
       "             param_grid={'model__C': [1000, 100, 10, 1, 0.1, 0.01],\n",
       "                         'model__penalty': ['l1', 'l2'], 'poly__degree': [1, 2],\n",
       "                         'scaler__with_std': [True, False]},\n",
       "             pre_dispatch='2*n_jobs', refit=True, return_train_score=False,\n",
       "             scoring=None, verbose=0)"
      ]
     },
     "execution_count": 19,
     "metadata": {},
     "output_type": "execute_result"
    }
   ],
   "source": [
    "from sklearn.model_selection import GridSearchCV\n",
    "\n",
    "from sklearn.preprocessing import PolynomialFeatures\n",
    "\n",
    "pipe = Pipeline([(\"poly\", PolynomialFeatures()),\n",
    "                 (\"scaler\", StandardScaler()),\n",
    "                 (\"model\", LogisticRegression())])\n",
    "\n",
    "param_grid = {\"poly__degree\":[1,2],\n",
    "              \"scaler__with_std\": [True, False],\n",
    "              \"model__penalty\": [\"l1\",\"l2\"],\n",
    "              \"model__C\": [1000, 100, 10, 1, 0.1, 0.01]}\n",
    "\n",
    "gs = GridSearchCV(pipe, param_grid, cv = 10, n_jobs=-1)\n",
    "\n",
    "gs.fit(X_train, y_train)\n"
   ]
  },
  {
   "cell_type": "code",
   "execution_count": 20,
   "metadata": {},
   "outputs": [
    {
     "data": {
      "text/plain": [
       "0.8461619698291846"
      ]
     },
     "execution_count": 20,
     "metadata": {},
     "output_type": "execute_result"
    }
   ],
   "source": [
    "y_pred = gs.predict(X_test)\n",
    "r2_score(y_test, y_pred)"
   ]
  },
  {
   "cell_type": "code",
   "execution_count": 21,
   "metadata": {},
   "outputs": [
    {
     "data": {
      "text/plain": [
       "{'model__C': 1000,\n",
       " 'model__penalty': 'l2',\n",
       " 'poly__degree': 1,\n",
       " 'scaler__with_std': True}"
      ]
     },
     "execution_count": 21,
     "metadata": {},
     "output_type": "execute_result"
    }
   ],
   "source": [
    "gs.best_params_"
   ]
  },
  {
   "cell_type": "code",
   "execution_count": 22,
   "metadata": {},
   "outputs": [
    {
     "name": "stdout",
     "output_type": "stream",
     "text": [
      "RMSE: 7466.93\n"
     ]
    }
   ],
   "source": [
    "rmse = sqrt(mean_squared_error(y_test, y_pred))\n",
    "print('RMSE: %.2f'%rmse )\n",
    "r2_list.append(r2_score(y_test, y_pred))\n",
    "rmse_list.append(rmse)"
   ]
  },
  {
   "cell_type": "markdown",
   "metadata": {},
   "source": [
    "## Other models automatized"
   ]
  },
  {
   "cell_type": "code",
   "execution_count": 23,
   "metadata": {},
   "outputs": [
    {
     "name": "stdout",
     "output_type": "stream",
     "text": [
      " Pipeline(memory=None,\n",
      "         steps=[('scaler',\n",
      "                 StandardScaler(copy=True, with_mean=False, with_std=True)),\n",
      "                ('model',\n",
      "                 DecisionTreeClassifier(ccp_alpha=0.0, class_weight=None,\n",
      "                                        criterion='gini', max_depth=None,\n",
      "                                        max_features=None, max_leaf_nodes=None,\n",
      "                                        min_impurity_decrease=0.0,\n",
      "                                        min_impurity_split=None,\n",
      "                                        min_samples_leaf=1, min_samples_split=2,\n",
      "                                        min_weight_fraction_leaf=0.0,\n",
      "                                        presort='deprecated', random_state=None,\n",
      "                                        splitter='best'))],\n",
      "         verbose=False) rmse - 7423.132367620028\n",
      "r2 - 0.8479612161176999\n",
      "{'model__max_depth': None, 'model__min_samples_leaf': 50, 'scaler__with_std': True}\n",
      " Pipeline(memory=None,\n",
      "         steps=[('scaler',\n",
      "                 StandardScaler(copy=True, with_mean=False, with_std=True)),\n",
      "                ('poly',\n",
      "                 PolynomialFeatures(degree=2, include_bias=True,\n",
      "                                    interaction_only=False, order='C')),\n",
      "                ('model',\n",
      "                 Ridge(alpha=1.0, copy_X=True, fit_intercept=True,\n",
      "                       max_iter=None, normalize=False, random_state=None,\n",
      "                       solver='auto', tol=0.001))],\n",
      "         verbose=False) rmse - 7275.177244210264\n",
      "r2 - 0.8539615770851474\n",
      "{'model__alpha': 600, 'poly__degree': 5, 'scaler__with_std': True}\n",
      " Pipeline(memory=None,\n",
      "         steps=[('scaler',\n",
      "                 StandardScaler(copy=True, with_mean=False, with_std=True)),\n",
      "                ('poly',\n",
      "                 PolynomialFeatures(degree=2, include_bias=True,\n",
      "                                    interaction_only=False, order='C')),\n",
      "                ('model',\n",
      "                 Lasso(alpha=1.0, copy_X=True, fit_intercept=True,\n",
      "                       max_iter=1000, normalize=False, positive=False,\n",
      "                       precompute=False, random_state=None, selection='cyclic',\n",
      "                       tol=0.0001, warm_start=False))],\n",
      "         verbose=False) rmse - 9662.225616467815\n",
      "r2 - 0.742406840583723\n",
      "{'model__alpha': 10, 'poly__degree': 10, 'scaler__with_std': True}\n"
     ]
    }
   ],
   "source": [
    "\n",
    "pipelines = ([Pipeline([\n",
    "    (\"scaler\", StandardScaler(with_mean=False)),\n",
    "    (\"model\", DecisionTreeClassifier())]),\n",
    "             Pipeline([\n",
    "    (\"scaler\", StandardScaler(with_mean=False)),\n",
    "    ('poly', PolynomialFeatures()),\n",
    "    (\"model\", Ridge())]),\n",
    "             Pipeline([\n",
    "    (\"scaler\", StandardScaler(with_mean=False)),\n",
    "    ('poly', PolynomialFeatures()),\n",
    "    (\"model\", Lasso())])\n",
    "])\n",
    "\n",
    "\n",
    "param_grids = [{\"model__min_samples_leaf\": [10,25,50,100],\n",
    "              \"model__max_depth\": [None, 10],\n",
    "               \"scaler__with_std\": [True, False]},\n",
    "               \n",
    "               {\"model__alpha\":[300,400,500,600],\n",
    "               \"poly__degree\":[2,5,10,20,25],\n",
    "               \"scaler__with_std\": [True, False]},\n",
    "               {\"model__alpha\":[0.01,0.1,1,10,100],\n",
    "               \"poly__degree\":[2,5,10,20,25],\n",
    "               \"scaler__with_std\": [True, False]}\n",
    "              ]\n",
    "\n",
    "for model, grid in zip(pipelines, param_grids):\n",
    "    gs = GridSearchCV(model, grid, cv=10)\n",
    "    gs.fit(X_train, y_train)\n",
    "    y_pred = gs.predict(X_test)\n",
    "    rmse = sqrt(mean_squared_error(y_test, y_pred))\n",
    "    r2 = r2_score(y_test, y_pred)\n",
    "    print(f' {model} rmse - {sqrt(mean_squared_error(y_test, y_pred))}')\n",
    "    print(f'r2 - {r2_score(y_test, y_pred)}')\n",
    "    print(gs.best_params_)\n",
    "    rmse_list.append(rmse)\n",
    "    r2_list.append(r2)"
   ]
  },
  {
   "cell_type": "code",
   "execution_count": 24,
   "metadata": {},
   "outputs": [
    {
     "data": {
      "text/html": [
       "<div>\n",
       "<style scoped>\n",
       "    .dataframe tbody tr th:only-of-type {\n",
       "        vertical-align: middle;\n",
       "    }\n",
       "\n",
       "    .dataframe tbody tr th {\n",
       "        vertical-align: top;\n",
       "    }\n",
       "\n",
       "    .dataframe thead th {\n",
       "        text-align: right;\n",
       "    }\n",
       "</style>\n",
       "<table border=\"1\" class=\"dataframe\">\n",
       "  <thead>\n",
       "    <tr style=\"text-align: right;\">\n",
       "      <th></th>\n",
       "      <th>Method</th>\n",
       "      <th>r2_score</th>\n",
       "      <th>rmse</th>\n",
       "    </tr>\n",
       "  </thead>\n",
       "  <tbody>\n",
       "    <tr>\n",
       "      <th>4</th>\n",
       "      <td>Ridge</td>\n",
       "      <td>0.853962</td>\n",
       "      <td>7275.177244</td>\n",
       "    </tr>\n",
       "    <tr>\n",
       "      <th>3</th>\n",
       "      <td>DecisionTree</td>\n",
       "      <td>0.847961</td>\n",
       "      <td>7423.132368</td>\n",
       "    </tr>\n",
       "    <tr>\n",
       "      <th>2</th>\n",
       "      <td>LogisticRegression</td>\n",
       "      <td>0.846162</td>\n",
       "      <td>7466.926329</td>\n",
       "    </tr>\n",
       "    <tr>\n",
       "      <th>0</th>\n",
       "      <td>LR</td>\n",
       "      <td>0.822376</td>\n",
       "      <td>8023.453612</td>\n",
       "    </tr>\n",
       "    <tr>\n",
       "      <th>1</th>\n",
       "      <td>LR scaler</td>\n",
       "      <td>0.822376</td>\n",
       "      <td>8023.453612</td>\n",
       "    </tr>\n",
       "    <tr>\n",
       "      <th>5</th>\n",
       "      <td>Lasso</td>\n",
       "      <td>0.742407</td>\n",
       "      <td>9662.225616</td>\n",
       "    </tr>\n",
       "  </tbody>\n",
       "</table>\n",
       "</div>"
      ],
      "text/plain": [
       "               Method  r2_score         rmse\n",
       "4               Ridge  0.853962  7275.177244\n",
       "3        DecisionTree  0.847961  7423.132368\n",
       "2  LogisticRegression  0.846162  7466.926329\n",
       "0                  LR  0.822376  8023.453612\n",
       "1           LR scaler  0.822376  8023.453612\n",
       "5               Lasso  0.742407  9662.225616"
      ]
     },
     "execution_count": 24,
     "metadata": {},
     "output_type": "execute_result"
    }
   ],
   "source": [
    "import pandas as pd\n",
    "d = {'r2_score': r2_list, \n",
    "     'rmse': rmse_list\n",
    "    }\n",
    "df = pd.DataFrame(data=d)\n",
    "df.insert(loc=0, column='Method', value=['LR', 'LR scaler', 'LogisticRegression', 'DecisionTree', 'Ridge', 'Lasso'])\n",
    "df.sort_values(by=['r2_score'] ,ascending=False)"
   ]
  },
  {
   "cell_type": "code",
   "execution_count": 25,
   "metadata": {},
   "outputs": [
    {
     "data": {
      "text/plain": [
       "<AxesSubplot:xlabel='Method', ylabel='rmse'>"
      ]
     },
     "execution_count": 25,
     "metadata": {},
     "output_type": "execute_result"
    },
    {
     "data": {
      "image/png": "[encoded data removed]",
      "text/plain": [
       "<Figure size 1080x360 with 1 Axes>"
      ]
     },
     "metadata": {
      "needs_background": "light"
     },
     "output_type": "display_data"
    }
   ],
   "source": [
    "plt.figure(figsize=(15,5))\n",
    "sns.barplot(x='Method', y='rmse', data=df.drop(columns='r2_score'), label='RMSE')"
   ]
  },
  {
   "cell_type": "code",
   "execution_count": 26,
   "metadata": {},
   "outputs": [
    {
     "data": {
      "text/plain": [
       "<AxesSubplot:xlabel='Method', ylabel='r2_score'>"
      ]
     },
     "execution_count": 26,
     "metadata": {},
     "output_type": "execute_result"
    },
    {
     "data": {
      "image/png": "[encoded data removed]",
      "text/plain": [
       "<Figure size 1080x360 with 1 Axes>"
      ]
     },
     "metadata": {
      "needs_background": "light"
     },
     "output_type": "display_data"
    }
   ],
   "source": [
    "plt.figure(figsize=(15,5))\n",
    "sns.barplot(x='Method', y='r2_score', data=df.drop(columns='rmse'), label='R2')"
   ]
  },
  {
   "cell_type": "markdown",
   "metadata": {},
   "source": [
    "# Final results\n",
    "Ridge regression seems to be the most accurate but the differences are not that visible. The worst model was Lasso regression with r2 score 0,74 and RMSE 9662,22"
   ]
  },
  {
   "cell_type": "code",
   "execution_count": null,
   "metadata": {},
   "outputs": [],
   "source": []
  }
 ],
 "metadata": {
  "kernelspec": {
   "display_name": "Python 3",
   "language": "python",
   "name": "python3"
  },
  "language_info": {
   "codemirror_mode": {
    "name": "ipython",
    "version": 3
   },
   "file_extension": ".py",
   "mimetype": "text/x-python",
   "name": "python",
   "nbconvert_exporter": "python",
   "pygments_lexer": "ipython3",
   "version": "3.8.1"
  }
 },
 "nbformat": 4,
 "nbformat_minor": 4
}
